{
 "cells": [
  {
   "cell_type": "code",
   "execution_count": 3,
   "metadata": {},
   "outputs": [
    {
     "data": {
      "text/html": [
       "<div>\n",
       "<style scoped>\n",
       "    .dataframe tbody tr th:only-of-type {\n",
       "        vertical-align: middle;\n",
       "    }\n",
       "\n",
       "    .dataframe tbody tr th {\n",
       "        vertical-align: top;\n",
       "    }\n",
       "\n",
       "    .dataframe thead th {\n",
       "        text-align: right;\n",
       "    }\n",
       "</style>\n",
       "<table border=\"1\" class=\"dataframe\">\n",
       "  <thead>\n",
       "    <tr style=\"text-align: right;\">\n",
       "      <th></th>\n",
       "      <th>isbn10</th>\n",
       "      <th>authors</th>\n",
       "      <th>title</th>\n",
       "      <th>categories</th>\n",
       "      <th>lang</th>\n",
       "      <th>publication-date</th>\n",
       "      <th>year</th>\n",
       "      <th>rating-avg</th>\n",
       "    </tr>\n",
       "  </thead>\n",
       "  <tbody>\n",
       "    <tr>\n",
       "      <td>4</td>\n",
       "      <td>1782216952</td>\n",
       "      <td>[6]</td>\n",
       "      <td>20 to Knit: Pocket Pets</td>\n",
       "      <td>[2942, 2948, 2953]</td>\n",
       "      <td>en</td>\n",
       "      <td>2019-06-04</td>\n",
       "      <td>2019.0</td>\n",
       "      <td>4.66</td>\n",
       "    </tr>\n",
       "    <tr>\n",
       "      <td>3</td>\n",
       "      <td>1784943460</td>\n",
       "      <td>[5]</td>\n",
       "      <td>50 Knitted Dolls</td>\n",
       "      <td>[2948, 2953]</td>\n",
       "      <td>en</td>\n",
       "      <td>2017-11-14</td>\n",
       "      <td>2017.0</td>\n",
       "      <td>3.66</td>\n",
       "    </tr>\n",
       "    <tr>\n",
       "      <td>1</td>\n",
       "      <td>1501143905</td>\n",
       "      <td>[2]</td>\n",
       "      <td>100 Deadly Skills: Survival Edition : The SEAL...</td>\n",
       "      <td>[376, 378, 868, 873, 900, 2771, 3097, 2590]</td>\n",
       "      <td>en</td>\n",
       "      <td>2016-11-16</td>\n",
       "      <td>2016.0</td>\n",
       "      <td>4.01</td>\n",
       "    </tr>\n",
       "    <tr>\n",
       "      <td>2</td>\n",
       "      <td>1444762052</td>\n",
       "      <td>[3, 4]</td>\n",
       "      <td>The 100 Most Pointless Things in the World : A...</td>\n",
       "      <td>[2978, 2980]</td>\n",
       "      <td>en</td>\n",
       "      <td>2013-05-23</td>\n",
       "      <td>2013.0</td>\n",
       "      <td>3.59</td>\n",
       "    </tr>\n",
       "    <tr>\n",
       "      <td>0</td>\n",
       "      <td>141036141</td>\n",
       "      <td>[1]</td>\n",
       "      <td>1984</td>\n",
       "      <td>[334, 335, 341, 2622, 352, 2626, 353, 2627]</td>\n",
       "      <td>en</td>\n",
       "      <td>2008-10-01</td>\n",
       "      <td>2008.0</td>\n",
       "      <td>4.18</td>\n",
       "    </tr>\n",
       "  </tbody>\n",
       "</table>\n",
       "</div>"
      ],
      "text/plain": [
       "       isbn10 authors                                              title  \\\n",
       "4  1782216952     [6]                            20 to Knit: Pocket Pets   \n",
       "3  1784943460     [5]                                   50 Knitted Dolls   \n",
       "1  1501143905     [2]  100 Deadly Skills: Survival Edition : The SEAL...   \n",
       "2  1444762052  [3, 4]  The 100 Most Pointless Things in the World : A...   \n",
       "0   141036141     [1]                                               1984   \n",
       "\n",
       "                                    categories lang publication-date    year  \\\n",
       "4                           [2942, 2948, 2953]   en       2019-06-04  2019.0   \n",
       "3                                 [2948, 2953]   en       2017-11-14  2017.0   \n",
       "1  [376, 378, 868, 873, 900, 2771, 3097, 2590]   en       2016-11-16  2016.0   \n",
       "2                                 [2978, 2980]   en       2013-05-23  2013.0   \n",
       "0  [334, 335, 341, 2622, 352, 2626, 353, 2627]   en       2008-10-01  2008.0   \n",
       "\n",
       "   rating-avg  \n",
       "4        4.66  \n",
       "3        3.66  \n",
       "1        4.01  \n",
       "2        3.59  \n",
       "0        4.18  "
      ]
     },
     "execution_count": 3,
     "metadata": {},
     "output_type": "execute_result"
    }
   ],
   "source": [
    "import pandas as pd\n",
    "import requests\n",
    "from IPython.display import Image\n",
    "from fpdf import FPDF\n",
    "\n",
    "result = pd.read_csv(\"Output/books_output.csv\")\n",
    "result = pd.DataFrame(result)\n",
    "result.head(5).sort_values(by=\"year\", ascending=False)"
   ]
  },
  {
   "cell_type": "code",
   "execution_count": 4,
   "metadata": {},
   "outputs": [],
   "source": [
    "\n",
    "\n",
    "def output(x,y):\n",
    "    x=float(x)\n",
    "    if y == \"novel\":\n",
    "        y =335\n",
    "    elif y == \"poetry\":\n",
    "        y =284\n",
    "    elif y == \"drama\":\n",
    "        y =2512\n",
    "    elif y == \"adventure\":\n",
    "        y =342\n",
    "    elif y == \"romance\":\n",
    "        y =358  \n",
    "    elif y == \"thriller\":\n",
    "        y =339\n",
    "    elif y == \"biographies\":\n",
    "        y =131\n",
    "    elif y == \"comic\":\n",
    "        y= 98\n",
    "    elif y == \"science-fiction\":\n",
    "        y= 2626\n",
    "    elif y == \"science\":\n",
    "        y =2534\n",
    "    elif y == \"kids\":\n",
    "        y =2491\n",
    "    elif y == \"horror\":\n",
    "        y =2624\n",
    "    elif y == \"mental-health\":\n",
    "        y =1300\n",
    "    print(type(y))\n",
    "    return result[(result[\"year\"]== x) & (result[\"categories\"].str.contains(f\"{y}\"))& (result[\"rating-avg\"]>1)].sort_values(by=\"rating-avg\",ascending=False).head(2)\n",
    "    "
   ]
  },
  {
   "cell_type": "code",
   "execution_count": 5,
   "metadata": {},
   "outputs": [
    {
     "name": "stdout",
     "output_type": "stream",
     "text": [
      "<class 'int'>\n"
     ]
    },
    {
     "data": {
      "text/html": [
       "<div>\n",
       "<style scoped>\n",
       "    .dataframe tbody tr th:only-of-type {\n",
       "        vertical-align: middle;\n",
       "    }\n",
       "\n",
       "    .dataframe tbody tr th {\n",
       "        vertical-align: top;\n",
       "    }\n",
       "\n",
       "    .dataframe thead th {\n",
       "        text-align: right;\n",
       "    }\n",
       "</style>\n",
       "<table border=\"1\" class=\"dataframe\">\n",
       "  <thead>\n",
       "    <tr style=\"text-align: right;\">\n",
       "      <th></th>\n",
       "      <th>isbn10</th>\n",
       "      <th>authors</th>\n",
       "      <th>title</th>\n",
       "      <th>categories</th>\n",
       "      <th>lang</th>\n",
       "      <th>publication-date</th>\n",
       "      <th>year</th>\n",
       "      <th>rating-avg</th>\n",
       "    </tr>\n",
       "  </thead>\n",
       "  <tbody>\n",
       "    <tr>\n",
       "      <td>35725</td>\n",
       "      <td>193066544X</td>\n",
       "      <td>[33866]</td>\n",
       "      <td>The George Reserve Deer Herd : Population Ecol...</td>\n",
       "      <td>[1597, 1694, 2987]</td>\n",
       "      <td>en</td>\n",
       "      <td>2001-12-31</td>\n",
       "      <td>2001.0</td>\n",
       "      <td>5.0</td>\n",
       "    </tr>\n",
       "    <tr>\n",
       "      <td>28772</td>\n",
       "      <td>041522599X</td>\n",
       "      <td>[27495, 27496]</td>\n",
       "      <td>Design and Analysis of Clinical Nursing Resear...</td>\n",
       "      <td>[406, 1298, 1417]</td>\n",
       "      <td>en</td>\n",
       "      <td>2001-01-27</td>\n",
       "      <td>2001.0</td>\n",
       "      <td>5.0</td>\n",
       "    </tr>\n",
       "  </tbody>\n",
       "</table>\n",
       "</div>"
      ],
      "text/plain": [
       "           isbn10         authors  \\\n",
       "35725  193066544X         [33866]   \n",
       "28772  041522599X  [27495, 27496]   \n",
       "\n",
       "                                                   title          categories  \\\n",
       "35725  The George Reserve Deer Herd : Population Ecol...  [1597, 1694, 2987]   \n",
       "28772  Design and Analysis of Clinical Nursing Resear...   [406, 1298, 1417]   \n",
       "\n",
       "      lang publication-date    year  rating-avg  \n",
       "35725   en       2001-12-31  2001.0         5.0  \n",
       "28772   en       2001-01-27  2001.0         5.0  "
      ]
     },
     "execution_count": 5,
     "metadata": {},
     "output_type": "execute_result"
    }
   ],
   "source": [
    "n = output(2001, \"comic\")\n",
    "\n",
    "n"
   ]
  },
  {
   "cell_type": "code",
   "execution_count": 6,
   "metadata": {},
   "outputs": [
    {
     "data": {
      "text/html": [
       "<img src=\"http://books.google.com/books/content?id=_scpNe360ccC&printsec=frontcover&img=1&zoom=5&source=gbs_api\"/>"
      ],
      "text/plain": [
       "<IPython.core.display.Image object>"
      ]
     },
     "metadata": {},
     "output_type": "display_data"
    },
    {
     "data": {
      "text/html": [
       "<img src=\"http://books.google.com/books/content?id=x5n6TFlsbQcC&printsec=frontcover&img=1&zoom=5&source=gbs_api\"/>"
      ],
      "text/plain": [
       "<IPython.core.display.Image object>"
      ]
     },
     "metadata": {},
     "output_type": "display_data"
    },
    {
     "data": {
      "text/plain": [
       "['Title: The George Reserve Deer Herd\\\\ Author: Dale R. McCullough,\\\\ Description: This classic was first published in 1979. In 1928, six white-tailed deer were introduced to the Edwin S. George Reserve, a two-square-mile fenced area in southeastern Michigan. Six years later, in 1933, the first drive census showed 160 deer. This remarkable growth of deer population became a landmark in the young field of wildlife management. In this book, the author reassessed the results of previous studies on this deer herd done over the years and reported on his own studies over a twelve-year period. The latter period involved an intensive effort to elucidate the relationship of population density to birth and survival of offspring. The author\\'s empirical population model, derived from his experiments, is compared to traditional population models used in ecology. The book is an account of the methods used, analyses performed, and models synthesized from the population data gathered at the Reserve. \"I think this book is a must for all wildlife managers and for others interested in the population biology of large mammals. It should also be valuable to those generally interested in animal population ecology as it reads well and presents techniques and philosophical perspectives that are important beyond the narrowest perspective of white-tailed deer. McCullough\\'s book will be widely quoted, and thus a necessary addition to many of our personal libraries.\" Journal of Mammology 62(1), 218 \"The book is well written. Research workers, professors of population dynamics, and simulation modelers will all find this book of great value.\" Journal of Range Management 33(4) 318 \"A technically sound, thorough evaluation of the subject matter makes this book a valuable contribution in the field of large mammal ecology and management.\" California Fish and Game 67(1) 68 Páginas: 288, None, Available in ebook?: False',\n",
       " 'Title: Design and Analysis of Clinical Nursing Research Studies\\\\ Author: Colin R. Martin,\\\\ Description: This text covers all aspects of the design and statistical analysis of clinical research studies. Clinical research material is used throughout the volume to illustrate the design types and statistical tests used. Páginas: 141, None, Available in ebook?: False']"
      ]
     },
     "execution_count": 6,
     "metadata": {},
     "output_type": "execute_result"
    }
   ],
   "source": [
    "x = pd.unique(n[\"isbn10\"]).tolist()\n",
    "\n",
    "def get_description(x):\n",
    "\n",
    "    try:      \n",
    "        url = f\"https://www.googleapis.com/books/v1/volumes?q=isbn:{x}\"\n",
    "        res = requests.get(url).json()\n",
    "        title = res[\"items\"][0][\"volumeInfo\"][\"title\"]\n",
    "        author = res[\"items\"][0][\"volumeInfo\"][\"authors\"][0]\n",
    "        description = res[\"items\"][0][\"volumeInfo\"][\"description\"]\n",
    "        pages = res[\"items\"][0][\"volumeInfo\"][\"pageCount\"]\n",
    "        image = display(Image(url=res[\"items\"][0][\"volumeInfo\"][\"imageLinks\"][\"smallThumbnail\"]))\n",
    "        sales = res[\"items\"][0][\"saleInfo\"][\"isEbook\"]\n",
    "        return f\"Title: {title}\\ Author: {author},\\ Description: {description} Páginas: {pages}, {image}, Available in ebook?: {sales}\"\n",
    "    \n",
    "    except KeyError:\n",
    "        return n\n",
    "    print(res.url)\n",
    "\n",
    "results = [get_description(i) for i in x]\n",
    "\n",
    "results\n"
   ]
  },
  {
   "cell_type": "code",
   "execution_count": 8,
   "metadata": {},
   "outputs": [
    {
     "data": {
      "text/html": [
       "<div>\n",
       "<style scoped>\n",
       "    .dataframe tbody tr th:only-of-type {\n",
       "        vertical-align: middle;\n",
       "    }\n",
       "\n",
       "    .dataframe tbody tr th {\n",
       "        vertical-align: top;\n",
       "    }\n",
       "\n",
       "    .dataframe thead th {\n",
       "        text-align: right;\n",
       "    }\n",
       "</style>\n",
       "<table border=\"1\" class=\"dataframe\">\n",
       "  <thead>\n",
       "    <tr style=\"text-align: right;\">\n",
       "      <th></th>\n",
       "      <th>isbn10</th>\n",
       "      <th>authors</th>\n",
       "      <th>title</th>\n",
       "      <th>categories</th>\n",
       "      <th>lang</th>\n",
       "      <th>publication-date</th>\n",
       "      <th>year</th>\n",
       "      <th>rating-avg</th>\n",
       "    </tr>\n",
       "  </thead>\n",
       "  <tbody>\n",
       "  </tbody>\n",
       "</table>\n",
       "</div>"
      ],
      "text/plain": [
       "Empty DataFrame\n",
       "Columns: [isbn10, authors, title, categories, lang, publication-date, year, rating-avg]\n",
       "Index: []"
      ]
     },
     "execution_count": 8,
     "metadata": {},
     "output_type": "execute_result"
    }
   ],
   "source": [
    "def output(x,y):\n",
    "    x=float(x)\n",
    "    return result[(result[\"year\"]== x) & (result[\"categories\"].str.contains(f\"{y}\"))& (result[\"rating-avg\"]>3.5)].sort_values(by=\"rating-avg\",ascending=False).head(25)\n",
    "\n",
    "output(2010,2529)"
   ]
  },
  {
   "cell_type": "code",
   "execution_count": 50,
   "metadata": {},
   "outputs": [
    {
     "data": {
      "text/html": [
       "<img src=\"http://books.google.com/books/content?id=_scpNe360ccC&printsec=frontcover&img=1&zoom=5&source=gbs_api\"/>"
      ],
      "text/plain": [
       "<IPython.core.display.Image object>"
      ]
     },
     "metadata": {},
     "output_type": "display_data"
    }
   ],
   "source": [
    "x = pd.unique(n[\"isbn10\"]).tolist()\n",
    "\n",
    "def get_description(x):\n",
    "\n",
    "    try:      \n",
    "        url = f\"https://www.googleapis.com/books/v1/volumes?q=isbn:{x}\"\n",
    "        res = requests.get(url).json()\n",
    "        title = res[\"items\"][0][\"volumeInfo\"][\"title\"]\n",
    "        author = res[\"items\"][0][\"volumeInfo\"][\"authors\"][0]\n",
    "        description = res[\"items\"][0][\"volumeInfo\"][\"description\"]\n",
    "        pages = res[\"items\"][0][\"volumeInfo\"][\"pageCount\"]\n",
    "        image = display(Image(url=res[\"items\"][0][\"volumeInfo\"][\"imageLinks\"][\"smallThumbnail\"]))\n",
    "        sales = res[\"items\"][0][\"saleInfo\"][\"isEbook\"]\n",
    "        return f\"Title: {title}\\ Author: {author},\\ Description: {description} Páginas: {pages}, {image}, Available in ebook?: {sales}\"\n",
    "    \n",
    "    except KeyError:\n",
    "        return z\n",
    "    print(res.url)\n",
    "\n",
    "results = [get_description(i) for i in x]\n",
    "\n",
    "\n"
   ]
  },
  {
   "cell_type": "code",
   "execution_count": 147,
   "metadata": {},
   "outputs": [
    {
     "data": {
      "text/plain": [
       "''"
      ]
     },
     "execution_count": 147,
     "metadata": {},
     "output_type": "execute_result"
    }
   ],
   "source": [
    "\n",
    "\n",
    "pdf =FPDF()\n",
    "title = \"Your Book Report\"\n",
    "pdf = FPDF('P','mm','A4')\n",
    "pdf.add_page()\n",
    "pdf.set_font('Courier', 'B', 20)\n",
    "pdf.set_margins(left= 2.0, top= 2.0, right= 2.0)\n",
    "\n",
    "pdf.cell(200, 10, f\"{title}\",0,0,'C')\n",
    "pdf.set_font('Courier', '', 10)\n",
    "pdf.cell(200, 10, \"Here we go!\",1,1,'C')\n",
    "if len(description)>15:\n",
    "    txt: str_\n",
    "pdf.cell(200, 20, \"HHHHHHoy Howarth, Description: Research has found that any one class might contain two to six children with profound social, emotional and behavioural difficulties. Without effective intervention and response, this can have a profound impact on the progress of these children, as well as the delivery of the curriculum to all pupils. Roy Howarth uses his extensive experience and expertise in this field to present practical solutions for supporting pupils with social, emotional and mental health difficulties, as well as alleviating pressures on whole-class teaching and management.Suitable for all mainstream and specialist teachers, 100 Ideas for Primary Teachers: Supporting Pupils with Social, Emotional and Mental Health Difficulties considers techniques for observation, intervention and differentiation, as well as preventing and dealing with significant difficulties. This fully updated edition will help teachers ensure all pupils can participate fully in lessons, learn more constructively\",20,20,'C')\n",
    "pdf.ln(h = '')\n",
    "pdf.set_auto_page_break(auto= bool)\n",
    "\n",
    "\n",
    "#pdf.image(\"libros\",x=5, y=86, w=100, link=\"Input/books-image.png\")\n",
    "    \n",
    "pdf.output(\"prueba.pdf\")\n",
    "\n"
   ]
  },
  {
   "cell_type": "code",
   "execution_count": 27,
   "metadata": {},
   "outputs": [
    {
     "data": {
      "text/html": [
       "<img src=\"http://books.google.com/books/content?id=bbjEuAEACAAJ&printsec=frontcover&img=1&zoom=5&source=gbs_api\"/>"
      ],
      "text/plain": [
       "<IPython.core.display.Image object>"
      ]
     },
     "metadata": {},
     "output_type": "display_data"
    },
    {
     "data": {
      "text/plain": [
       "[('Your Book Recommedation is:',\n",
       "  'Title: 100 Ideas for Primary Teachers: Supporting Pupils with Social, Emotional and Behavioural Difficulties',\n",
       "  'Author: Roy Howarth',\n",
       "  'Description: Research has found that any one class might contain two to six children with profound social, emotional and behavioural difficulties. Without effective intervention and response, this can have a profound impact on the progress of these children, as well as the delivery of the curriculum to all pupils. Roy Howarth uses his extensive experience and expertise in this field to present practical solutions for supporting pupils with social, emotional and mental health difficulties, as well as alleviating pressures on whole-class teaching and management.Suitable for all mainstream and specialist teachers, 100 Ideas for Primary Teachers: Supporting Pupils with Social, Emotional and Mental Health Difficulties considers techniques for observation, intervention and differentiation, as well as preventing and dealing with significant difficulties. This fully updated edition will help teachers ensure all pupils can participate fully in lessons, learn more constructively and make better progress. Páginas: 144',\n",
       "  'Available in ebook?: False',\n",
       "  '')]"
      ]
     },
     "execution_count": 27,
     "metadata": {},
     "output_type": "execute_result"
    }
   ],
   "source": [
    "x = pd.unique(n[\"isbn10\"]).tolist()\n",
    "\n",
    "def get_description(x):\n",
    "\n",
    "    try:      \n",
    "        url = f\"https://www.googleapis.com/books/v1/volumes?q=isbn:{x}\"\n",
    "        res = requests.get(url).json()\n",
    "        title = res[\"items\"][0][\"volumeInfo\"][\"title\"]\n",
    "        author = res[\"items\"][0][\"volumeInfo\"][\"authors\"][0]\n",
    "        description = res[\"items\"][0][\"volumeInfo\"][\"description\"]\n",
    "        pages = res[\"items\"][0][\"volumeInfo\"][\"pageCount\"]\n",
    "        image = display(Image(url=res[\"items\"][0][\"volumeInfo\"][\"imageLinks\"][\"smallThumbnail\"]))\n",
    "        sales = res[\"items\"][0][\"saleInfo\"][\"isEbook\"]\n",
    "        \n",
    "        title2 = \"Your Book Report\"\n",
    "        pdf = FPDF('P','mm','A4')\n",
    "        pdf.add_page()\n",
    "        pdf.set_font('Courier', 'B', 20)\n",
    "        pdf.cell(180, 20, txt=\"Your Book Report!\", ln=1, align=\"C\")\n",
    "        pdf.ln(5)\n",
    "        pdf.set_font('Courier', 'B', 14)\n",
    "        pdf.cell(180, 10, txt=\"Title:\", ln=1, align=\"L\")\n",
    "        pdf.set_font('Courier', '', 12)\n",
    "        pdf.multi_cell(180,8,f\"{title}\",0,1,'C')\n",
    "        pdf.set_font('Courier', 'B', 14)\n",
    "        pdf.cell(180, 10, txt=\"Author:\", ln=1, align=\"L\")\n",
    "        pdf.set_font('Courier', '', 12)\n",
    "        pdf.multi_cell(180,8,f\"{author}\",0,1,'C')\n",
    "        pdf.ln(5)\n",
    "        pdf.set_font('Courier', 'B', 14)\n",
    "        pdf.cell(180, 10, txt=\"Description\", ln=1, align=\"L\")\n",
    "        pdf.set_font('Courier', '', 12)\n",
    "        pdf.multi_cell(190,8,f\"{description}\",0,2,'C')\n",
    "        pdf.image('books.jpg', x=50, y=230, w=80)\n",
    "            \n",
    "    \n",
    "        \n",
    "        \n",
    "        return f\"Your Book Recommedation is:\", f\"Title: {title}\", f\"Author: {author}\", f\"Description: {description} Páginas: {pages}\",f\"Available in ebook?: {sales}\", pdf.output(\"book-pdf.pdf\")\n",
    "    #f\"Title: {title} Author: {author}, Description: {description} Páginas: {pages}, {image}, Available in ebook?: {sales}\"\n",
    "\n",
    "    except KeyError:\n",
    "        return z\n",
    "            \n",
    "    print(res.url)\n",
    "    \n",
    "results = [get_description(i) for i in x]\n",
    "\n",
    "results"
   ]
  },
  {
   "cell_type": "markdown",
   "metadata": {},
   "source": [
    "def lista(x):\n",
    "    return z[\"isbn10\"].tolist()\n",
    "\n",
    "x = z[\"isbn10\"].tolist()\n",
    "\n",
    "def get_info(x):   \n",
    "    url = f\"https://www.googleapis.com/books/v1/volumes?q=isbn:{x}\"\n",
    "    res = requests.get(url).json()\n",
    "    description = res[\"items\"][0][\"volumeInfo\"][\"description\"]\n",
    "    pages = res[\"items\"][0][\"volumeInfo\"][\"pageCount\"]\n",
    "    image = display(Image(url=res[\"items\"][0][\"volumeInfo\"][\"imageLinks\"][\"smallThumbnail\"]))\n",
    "    sales = res[\"items\"][0][\"saleInfo\"][\"isEbook\"]\n",
    "    return description, pages, image, sales\n",
    "\n",
    "list(['9780007284993'])"
   ]
  },
  {
   "cell_type": "markdown",
   "metadata": {},
   "source": [
    "from fpdf import FPDF\n",
    "titulo = \"Informe de producción de alimentos en España\"\n",
    "\n",
    "def creaPDF2():\n",
    "    pdf2 = FPDF('P','mm','A4')\n",
    "    pdf2.add_page()\n",
    "    pdf2.set_font('Arial', 'B', 16)\n",
    "    pdf2.cell(190, 10, f\"{titulo}\",1,1,'C')\n",
    "    pdf2.set_font('Courier', '',10)\n",
    "    pdf2.cell(190, 10, 'Datos de la Organización de las Naciones Unidas para la Agricultura y la Alimentación','',1,'C')\n",
    "    pdf2.text(10,110,'En los siguientes gráficos vemos la evolución de producción de producto y de población')\n",
    "    pdf2.image('output/portada2.jpg',x=50, y=30, w=100)\n",
    "    pdf2.set_font('Courier', '',13)\n",
    "    pdf2.text(55,73,'¿Quién se come lo que cultivamos?')\n",
    "    pdf2.set_font('Courier', '',10)\n",
    "    pdf2.text(10,78,'El gráfico muestra las toneladas producidas del producto y los porcentajes de Food y Feed')\n",
    "    pdf2.text(40,83,'Siendo Feed alimento destinado a animales y Food destinado a personas')\n",
    "    pdf2.image('graficodatos.png',x=5, y=86, w=100)\n",
    "    pdf2.image('graficopoblacion.png', x=100, y=86,w=100)\n",
    "    pdf2.set_font('Courier', '',10)\n",
    "    pdf2.text(10,160,'En los siguientes gráficos vemos la evolución de producción de producto y de población')\n",
    "    pdf2.image('graficodatosbonus.png',x=5, y=163, w=100)\n",
    "    pdf2.image('graficopoblacionbonus.png', x=100, y=163,w=100)\n",
    "    pdf2.output(\"archivo.pdf\")\n",
    "    pdf2.output(\"src/reporteparaenviar.pdf\", \"F\")"
   ]
  },
  {
   "cell_type": "code",
   "execution_count": 146,
   "metadata": {},
   "outputs": [
    {
     "ename": "KeyError",
     "evalue": "'items'",
     "output_type": "error",
     "traceback": [
      "\u001b[0;31m---------------------------------------------------------------------------\u001b[0m",
      "\u001b[0;31mKeyError\u001b[0m                                  Traceback (most recent call last)",
      "\u001b[0;32m<ipython-input-146-30bf1854b456>\u001b[0m in \u001b[0;36m<module>\u001b[0;34m\u001b[0m\n\u001b[1;32m      1\u001b[0m \u001b[0murl\u001b[0m \u001b[0;34m=\u001b[0m \u001b[0;34mf\"https://www.googleapis.com/books/v1/volumes?q=isbn:{x}\"\u001b[0m\u001b[0;34m\u001b[0m\u001b[0;34m\u001b[0m\u001b[0m\n\u001b[1;32m      2\u001b[0m \u001b[0mres\u001b[0m \u001b[0;34m=\u001b[0m \u001b[0mrequests\u001b[0m\u001b[0;34m.\u001b[0m\u001b[0mget\u001b[0m\u001b[0;34m(\u001b[0m\u001b[0murl\u001b[0m\u001b[0;34m)\u001b[0m\u001b[0;34m.\u001b[0m\u001b[0mjson\u001b[0m\u001b[0;34m(\u001b[0m\u001b[0;34m)\u001b[0m\u001b[0;34m\u001b[0m\u001b[0;34m\u001b[0m\u001b[0m\n\u001b[0;32m----> 3\u001b[0;31m \u001b[0mtitle\u001b[0m \u001b[0;34m=\u001b[0m \u001b[0mres\u001b[0m\u001b[0;34m[\u001b[0m\u001b[0;34m\"items\"\u001b[0m\u001b[0;34m]\u001b[0m\u001b[0;34m[\u001b[0m\u001b[0;36m0\u001b[0m\u001b[0;34m]\u001b[0m\u001b[0;34m[\u001b[0m\u001b[0;34m\"volumeInfo\"\u001b[0m\u001b[0;34m]\u001b[0m\u001b[0;34m[\u001b[0m\u001b[0;34m\"title\"\u001b[0m\u001b[0;34m]\u001b[0m\u001b[0;34m\u001b[0m\u001b[0;34m\u001b[0m\u001b[0m\n\u001b[0m\u001b[1;32m      4\u001b[0m \u001b[0mauthor\u001b[0m \u001b[0;34m=\u001b[0m \u001b[0mres\u001b[0m\u001b[0;34m[\u001b[0m\u001b[0;34m\"items\"\u001b[0m\u001b[0;34m]\u001b[0m\u001b[0;34m[\u001b[0m\u001b[0;36m0\u001b[0m\u001b[0;34m]\u001b[0m\u001b[0;34m[\u001b[0m\u001b[0;34m\"volumeInfo\"\u001b[0m\u001b[0;34m]\u001b[0m\u001b[0;34m[\u001b[0m\u001b[0;34m\"authors\"\u001b[0m\u001b[0;34m]\u001b[0m\u001b[0;34m[\u001b[0m\u001b[0;36m0\u001b[0m\u001b[0;34m]\u001b[0m\u001b[0;34m\u001b[0m\u001b[0;34m\u001b[0m\u001b[0m\n\u001b[1;32m      5\u001b[0m \u001b[0mdescription\u001b[0m \u001b[0;34m=\u001b[0m \u001b[0mres\u001b[0m\u001b[0;34m[\u001b[0m\u001b[0;34m\"items\"\u001b[0m\u001b[0;34m]\u001b[0m\u001b[0;34m[\u001b[0m\u001b[0;36m0\u001b[0m\u001b[0;34m]\u001b[0m\u001b[0;34m[\u001b[0m\u001b[0;34m\"volumeInfo\"\u001b[0m\u001b[0;34m]\u001b[0m\u001b[0;34m[\u001b[0m\u001b[0;34m\"description\"\u001b[0m\u001b[0;34m]\u001b[0m\u001b[0;34m\u001b[0m\u001b[0;34m\u001b[0m\u001b[0m\n",
      "\u001b[0;31mKeyError\u001b[0m: 'items'"
     ]
    }
   ],
   "source": [
    "url = f\"https://www.googleapis.com/books/v1/volumes?q=isbn:{x}\"\n",
    "res = requests.get(url).json()\n",
    "title = res[\"items\"][0][\"volumeInfo\"][\"title\"]\n",
    "author = res[\"items\"][0][\"volumeInfo\"][\"authors\"][0]\n",
    "description = res[\"items\"][0][\"volumeInfo\"][\"description\"]\n",
    "pages = res[\"items\"][0][\"volumeInfo\"][\"pageCount\"]\n",
    "image = display(Image(url=res[\"items\"][0][\"volumeInfo\"][\"imageLinks\"][\"smallThumbnail\"]))\n",
    "sales = res[\"items\"][0][\"saleInfo\"][\"isEbook\"]"
   ]
  },
  {
   "cell_type": "code",
   "execution_count": 106,
   "metadata": {},
   "outputs": [
    {
     "ename": "SyntaxError",
     "evalue": "invalid syntax (<ipython-input-106-da829fb1bd87>, line 1)",
     "output_type": "error",
     "traceback": [
      "\u001b[0;36m  File \u001b[0;32m\"<ipython-input-106-da829fb1bd87>\"\u001b[0;36m, line \u001b[0;32m1\u001b[0m\n\u001b[0;31m    current_y = pdf->GetY();\u001b[0m\n\u001b[0m                    ^\u001b[0m\n\u001b[0;31mSyntaxError\u001b[0m\u001b[0;31m:\u001b[0m invalid syntax\n"
     ]
    }
   ],
   "source": [
    "current_y = pdf->GetY();\n",
    "current_x = pdf->GetX();\n",
    "\n",
    "cell_width = 50;\n",
    "MultiCell(cell_width, 1, \"abcd\", currentBorders, Alignment.LEFT, false);\n",
    "\n",
    "pdf->SetXY(current_x + cell_width, current_y);\n",
    "\n",
    "current_x = pdf->GetX();\n",
    "MultiCell(cell_width, 1, \"abcd\", currentBorders, Alignment.LEFT, false);"
   ]
  },
  {
   "cell_type": "code",
   "execution_count": 114,
   "metadata": {},
   "outputs": [
    {
     "data": {
      "text/plain": [
       "''"
      ]
     },
     "execution_count": 114,
     "metadata": {},
     "output_type": "execute_result"
    }
   ],
   "source": [
    "pdf = FPDF()\n",
    "pdf.add_page()\n",
    "pdf.set_xy(0, 0)\n",
    "pdf.set_font('arial', 'B', 13.0)\n",
    "text = \"itle: 100 Ideas for Primary Teachers: Supporting Pupils with Social, Emotional and Behavioural Difficulties Author: Roy Howarth, Description: Research has found that any one class might contain two to six children with profound social, emotional and behavioural difficulties. Without effective intervention and response, this can have a profound impact on the progress of these children, as well as the delivery of the curriculum to all pupils. Roy Howarth uses his extensive experience and expertise in this field to present practical solutions for supporting pupils with social, emotional and mental health difficulties, as well as alleviating pressures on whole-class teaching and management.Suitable for all mainstream and specialist teachers, 100 Ideas for Primary Teachers: Supporting Pupils with Social, Emotional and Mental Health Difficulties considers techniques for observation, intervention and differentiation, as well as preventing and dealing with significant difficulties. This fully updated edition will help teachers ensure all pupils can participate fully in lessons, learn more constructively and make better progress. Páginas: 144, None, Available in ebook?: False\"\n",
    "pdf.cell(ln=1, h=5.0, align='L', w=0, txt=text, border=0)\n",
    "pdf.output(\"hola.pdf\", 'F')\n",
    "\n",
    "\n"
   ]
  },
  {
   "cell_type": "code",
   "execution_count": 126,
   "metadata": {},
   "outputs": [
    {
     "data": {
      "text/plain": [
       "''"
      ]
     },
     "execution_count": 126,
     "metadata": {},
     "output_type": "execute_result"
    }
   ],
   "source": [
    "title2 = \"Your Book Report\"\n",
    "pdf = FPDF('P','mm','A4')\n",
    "pdf.add_page()\n",
    "pdf.set_font('Courier', 'B', 20)\n",
    "\n",
    "pdf.cell(200, 10, f\"{title2}\",0,0,'C')\n",
    "pdf.cell(200, 20, \"Here we go!\",0,0,'C')\n",
    "pdf.cell(200, 30, \"Description\",0,0,'L')\n",
    "pdf.cell(200, 40, \"Title\",0,0,'L')\n",
    "pdf.cell(200, 50, \"Author\",0,0,'L')\n",
    "\n",
    "\n",
    "pdf.output(\"hola.pdf\", 'F')\n"
   ]
  },
  {
   "cell_type": "code",
   "execution_count": 133,
   "metadata": {},
   "outputs": [
    {
     "data": {
      "text/plain": [
       "''"
      ]
     },
     "execution_count": 133,
     "metadata": {},
     "output_type": "execute_result"
    }
   ],
   "source": [
    "title2 = \"Your Book Report\"\n",
    "pdf = FPDF('P','mm','A4')\n",
    "pdf.add_page()\n",
    "pdf.set_font(\"Arial\", size=12)\n",
    "pdf.cell(200, 10, txt=\"Welcome to Python!\", ln=1, align=\"C\")\n",
    "pdf.ln(5)\n",
    "pdf.cell(200,10,'Powered by FPDF',0,1,'C')\n",
    "pdf.ln(5)\n",
    "pdf.multi_cell(200,10,'otional and behavioural difficulties. Without effective intervention and response, this can have a profound impact on the progress of these children, as well as the delivery of the curriculum to all pupils. Roy Howarth uses his extensive experience and expertise in this field to present practical solutions for supporting pupils with social, emotional and mental health difficulties, as well as alleviating pressures on whole-class teaching and management.Suitable for all mainstream and specialist teachers, 100 Ideas for Primary Teachers: Supporting Pupils with Social, Emotional and Mental Health Difficulties considers techniques for observation, intervention and differentiation, as well as preventing and dealing with significant difficulties. This fully updated edition will help teachers ensure all pupils can participate',0,1,'C')\n",
    "pdf.ln(5)\n",
    "\n",
    "pdf.output(\"tutorial.pdf\")"
   ]
  },
  {
   "cell_type": "code",
   "execution_count": null,
   "metadata": {},
   "outputs": [],
   "source": []
  }
 ],
 "metadata": {
  "kernelspec": {
   "display_name": "Python 3",
   "language": "python",
   "name": "python3"
  },
  "language_info": {
   "codemirror_mode": {
    "name": "ipython",
    "version": 3
   },
   "file_extension": ".py",
   "mimetype": "text/x-python",
   "name": "python",
   "nbconvert_exporter": "python",
   "pygments_lexer": "ipython3",
   "version": "3.8.5"
  }
 },
 "nbformat": 4,
 "nbformat_minor": 2
}
