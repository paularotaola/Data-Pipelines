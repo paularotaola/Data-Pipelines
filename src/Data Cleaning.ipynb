{
 "cells": [
  {
   "cell_type": "code",
   "execution_count": 1,
   "metadata": {},
   "outputs": [],
   "source": [
    "import re\n",
    "import pandas as pd\n",
    "import os\n",
    "import datetime as dt"
   ]
  },
  {
   "cell_type": "code",
   "execution_count": 2,
   "metadata": {},
   "outputs": [
    {
     "data": {
      "text/html": [
       "<div>\n",
       "<style scoped>\n",
       "    .dataframe tbody tr th:only-of-type {\n",
       "        vertical-align: middle;\n",
       "    }\n",
       "\n",
       "    .dataframe tbody tr th {\n",
       "        vertical-align: top;\n",
       "    }\n",
       "\n",
       "    .dataframe thead th {\n",
       "        text-align: right;\n",
       "    }\n",
       "</style>\n",
       "<table border=\"1\" class=\"dataframe\">\n",
       "  <thead>\n",
       "    <tr style=\"text-align: right;\">\n",
       "      <th></th>\n",
       "      <th>authors</th>\n",
       "      <th>bestsellers-rank</th>\n",
       "      <th>categories</th>\n",
       "      <th>description</th>\n",
       "      <th>dimension-x</th>\n",
       "      <th>dimension-y</th>\n",
       "      <th>dimension-z</th>\n",
       "      <th>edition</th>\n",
       "      <th>edition-statement</th>\n",
       "      <th>for-ages</th>\n",
       "      <th>...</th>\n",
       "      <th>isbn10</th>\n",
       "      <th>isbn13</th>\n",
       "      <th>lang</th>\n",
       "      <th>publication-date</th>\n",
       "      <th>publication-place</th>\n",
       "      <th>rating-avg</th>\n",
       "      <th>rating-count</th>\n",
       "      <th>title</th>\n",
       "      <th>url</th>\n",
       "      <th>weight</th>\n",
       "    </tr>\n",
       "  </thead>\n",
       "  <tbody>\n",
       "    <tr>\n",
       "      <td>0</td>\n",
       "      <td>[1]</td>\n",
       "      <td>NaN</td>\n",
       "      <td>[334, 335, 341, 2622, 352, 2626, 353, 2627]</td>\n",
       "      <td>Renowned urban artist Shepard Fairey's new loo...</td>\n",
       "      <td>111.0</td>\n",
       "      <td>181.0</td>\n",
       "      <td>20.0</td>\n",
       "      <td>NaN</td>\n",
       "      <td>Repr.</td>\n",
       "      <td>NaN</td>\n",
       "      <td>...</td>\n",
       "      <td>141036141</td>\n",
       "      <td>9.780141e+12</td>\n",
       "      <td>en</td>\n",
       "      <td>2008-10-01</td>\n",
       "      <td>1.0</td>\n",
       "      <td>4.18</td>\n",
       "      <td>2918204.0</td>\n",
       "      <td>1984</td>\n",
       "      <td>/1984-George-Orwell/9780141036144</td>\n",
       "      <td>184.0</td>\n",
       "    </tr>\n",
       "  </tbody>\n",
       "</table>\n",
       "<p>1 rows × 25 columns</p>\n",
       "</div>"
      ],
      "text/plain": [
       "  authors bestsellers-rank                                   categories  \\\n",
       "0     [1]              NaN  [334, 335, 341, 2622, 352, 2626, 353, 2627]   \n",
       "\n",
       "                                         description  dimension-x  \\\n",
       "0  Renowned urban artist Shepard Fairey's new loo...        111.0   \n",
       "\n",
       "   dimension-y  dimension-z edition edition-statement for-ages  ...  \\\n",
       "0        181.0         20.0     NaN             Repr.      NaN  ...   \n",
       "\n",
       "      isbn10        isbn13 lang publication-date publication-place rating-avg  \\\n",
       "0  141036141  9.780141e+12   en       2008-10-01               1.0       4.18   \n",
       "\n",
       "   rating-count title                                url  weight  \n",
       "0     2918204.0  1984  /1984-George-Orwell/9780141036144   184.0  \n",
       "\n",
       "[1 rows x 25 columns]"
      ]
     },
     "execution_count": 2,
     "metadata": {},
     "output_type": "execute_result"
    }
   ],
   "source": [
    "#Importamos el csv con el dataset\n",
    "#https://www.kaggle.com/sp1thas/book-depository-dataset?select=dataset.csv\n",
    "data = pd.read_csv(\"Input/dataset-books.csv\")\n",
    "data = pd.DataFrame(data)\n",
    "data.head(1)"
   ]
  },
  {
   "cell_type": "code",
   "execution_count": 3,
   "metadata": {},
   "outputs": [],
   "source": [
    "drop_cols = ['id','bestsellers-rank','dimension-x','edition','edition-statement', 'for-ages', 'format', 'illustrations-note',\n",
    "       'imprint', 'index-date', 'dimension-y',\"description\",\"isbn13\",'publication-place','dimension-z','weight','rating-count','url']\n",
    "data = data.drop(drop_cols, axis =1)"
   ]
  },
  {
   "cell_type": "code",
   "execution_count": 4,
   "metadata": {},
   "outputs": [
    {
     "data": {
      "text/plain": [
       "authors                 0\n",
       "categories              0\n",
       "isbn10                  0\n",
       "lang                 2851\n",
       "publication-date      139\n",
       "rating-avg          35990\n",
       "title                   0\n",
       "dtype: int64"
      ]
     },
     "execution_count": 4,
     "metadata": {},
     "output_type": "execute_result"
    }
   ],
   "source": [
    "null_cols = data.isnull().sum()\n",
    "null_cols"
   ]
  },
  {
   "cell_type": "code",
   "execution_count": 5,
   "metadata": {},
   "outputs": [],
   "source": [
    "\n",
    "data[\"publication-date\"] = pd.to_datetime(data[\"publication-date\"])\n",
    "data[\"year\"] = pd.DatetimeIndex(data[\"publication-date\"]).year\n"
   ]
  },
  {
   "cell_type": "code",
   "execution_count": 6,
   "metadata": {},
   "outputs": [
    {
     "data": {
      "text/plain": [
       "isbn10                      object\n",
       "authors                     object\n",
       "title                       object\n",
       "categories                  object\n",
       "lang                        object\n",
       "publication-date    datetime64[ns]\n",
       "year                       float64\n",
       "rating-avg                 float64\n",
       "dtype: object"
      ]
     },
     "execution_count": 6,
     "metadata": {},
     "output_type": "execute_result"
    }
   ],
   "source": [
    "column_order = ['isbn10','authors','title','categories', 'lang','publication-date', 'year',\"rating-avg\"]\n",
    "data = data[column_order]\n",
    "data.dtypes"
   ]
  },
  {
   "cell_type": "code",
   "execution_count": 7,
   "metadata": {},
   "outputs": [
    {
     "data": {
      "text/html": [
       "<div>\n",
       "<style scoped>\n",
       "    .dataframe tbody tr th:only-of-type {\n",
       "        vertical-align: middle;\n",
       "    }\n",
       "\n",
       "    .dataframe tbody tr th {\n",
       "        vertical-align: top;\n",
       "    }\n",
       "\n",
       "    .dataframe thead th {\n",
       "        text-align: right;\n",
       "    }\n",
       "</style>\n",
       "<table border=\"1\" class=\"dataframe\">\n",
       "  <thead>\n",
       "    <tr style=\"text-align: right;\">\n",
       "      <th></th>\n",
       "      <th>isbn10</th>\n",
       "      <th>authors</th>\n",
       "      <th>title</th>\n",
       "      <th>categories</th>\n",
       "      <th>lang</th>\n",
       "      <th>publication-date</th>\n",
       "      <th>year</th>\n",
       "      <th>rating-avg</th>\n",
       "    </tr>\n",
       "  </thead>\n",
       "  <tbody>\n",
       "    <tr>\n",
       "      <td>0</td>\n",
       "      <td>141036141</td>\n",
       "      <td>[1]</td>\n",
       "      <td>1984</td>\n",
       "      <td>[334, 335, 341, 2622, 352, 2626, 353, 2627]</td>\n",
       "      <td>en</td>\n",
       "      <td>2008-10-01</td>\n",
       "      <td>2008.0</td>\n",
       "      <td>4.18</td>\n",
       "    </tr>\n",
       "    <tr>\n",
       "      <td>1</td>\n",
       "      <td>1501143905</td>\n",
       "      <td>[2]</td>\n",
       "      <td>100 Deadly Skills: Survival Edition : The SEAL...</td>\n",
       "      <td>[376, 378, 868, 873, 900, 2771, 3097, 2590]</td>\n",
       "      <td>en</td>\n",
       "      <td>2016-11-16</td>\n",
       "      <td>2016.0</td>\n",
       "      <td>4.01</td>\n",
       "    </tr>\n",
       "    <tr>\n",
       "      <td>2</td>\n",
       "      <td>1444762052</td>\n",
       "      <td>[3, 4]</td>\n",
       "      <td>The 100 Most Pointless Things in the World : A...</td>\n",
       "      <td>[2978, 2980]</td>\n",
       "      <td>en</td>\n",
       "      <td>2013-05-23</td>\n",
       "      <td>2013.0</td>\n",
       "      <td>3.59</td>\n",
       "    </tr>\n",
       "    <tr>\n",
       "      <td>3</td>\n",
       "      <td>1784943460</td>\n",
       "      <td>[5]</td>\n",
       "      <td>50 Knitted Dolls</td>\n",
       "      <td>[2948, 2953]</td>\n",
       "      <td>en</td>\n",
       "      <td>2017-11-14</td>\n",
       "      <td>2017.0</td>\n",
       "      <td>3.66</td>\n",
       "    </tr>\n",
       "    <tr>\n",
       "      <td>4</td>\n",
       "      <td>1782216952</td>\n",
       "      <td>[6]</td>\n",
       "      <td>20 to Knit: Pocket Pets</td>\n",
       "      <td>[2942, 2948, 2953]</td>\n",
       "      <td>en</td>\n",
       "      <td>2019-06-04</td>\n",
       "      <td>2019.0</td>\n",
       "      <td>4.66</td>\n",
       "    </tr>\n",
       "  </tbody>\n",
       "</table>\n",
       "</div>"
      ],
      "text/plain": [
       "       isbn10 authors                                              title  \\\n",
       "0   141036141     [1]                                               1984   \n",
       "1  1501143905     [2]  100 Deadly Skills: Survival Edition : The SEAL...   \n",
       "2  1444762052  [3, 4]  The 100 Most Pointless Things in the World : A...   \n",
       "3  1784943460     [5]                                   50 Knitted Dolls   \n",
       "4  1782216952     [6]                            20 to Knit: Pocket Pets   \n",
       "\n",
       "                                    categories lang publication-date    year  \\\n",
       "0  [334, 335, 341, 2622, 352, 2626, 353, 2627]   en       2008-10-01  2008.0   \n",
       "1  [376, 378, 868, 873, 900, 2771, 3097, 2590]   en       2016-11-16  2016.0   \n",
       "2                                 [2978, 2980]   en       2013-05-23  2013.0   \n",
       "3                                 [2948, 2953]   en       2017-11-14  2017.0   \n",
       "4                           [2942, 2948, 2953]   en       2019-06-04  2019.0   \n",
       "\n",
       "   rating-avg  \n",
       "0        4.18  \n",
       "1        4.01  \n",
       "2        3.59  \n",
       "3        3.66  \n",
       "4        4.66  "
      ]
     },
     "execution_count": 7,
     "metadata": {},
     "output_type": "execute_result"
    }
   ],
   "source": [
    "data = data.dropna(how='all')\n",
    "data.head(5)"
   ]
  },
  {
   "cell_type": "code",
   "execution_count": 8,
   "metadata": {},
   "outputs": [
    {
     "data": {
      "text/plain": [
       "isbn10                  0\n",
       "authors                 0\n",
       "title                   0\n",
       "categories              0\n",
       "lang                 2851\n",
       "publication-date      139\n",
       "year                  139\n",
       "rating-avg          35990\n",
       "dtype: int64"
      ]
     },
     "execution_count": 8,
     "metadata": {},
     "output_type": "execute_result"
    }
   ],
   "source": [
    "null_cols = data.isnull().sum()\n",
    "null_cols"
   ]
  },
  {
   "cell_type": "code",
   "execution_count": 9,
   "metadata": {},
   "outputs": [],
   "source": [
    "data3 = pd.read_csv(\"Input/categories.csv\")\n",
    "data3 = pd.DataFrame(data3)\n",
    "data3.head()\n",
    "data3 = data3.to_dict()\n"
   ]
  },
  {
   "cell_type": "code",
   "execution_count": 10,
   "metadata": {},
   "outputs": [],
   "source": [
    "#Guardo el nuevo dataset con los datos limpios para su próximo analisis.\n",
    "data.to_csv('Output/books_output.csv',index=False)"
   ]
  },
  {
   "cell_type": "code",
   "execution_count": null,
   "metadata": {},
   "outputs": [],
   "source": [
    "\n"
   ]
  }
 ],
 "metadata": {
  "kernelspec": {
   "display_name": "Python 3",
   "language": "python",
   "name": "python3"
  },
  "language_info": {
   "codemirror_mode": {
    "name": "ipython",
    "version": 3
   },
   "file_extension": ".py",
   "mimetype": "text/x-python",
   "name": "python",
   "nbconvert_exporter": "python",
   "pygments_lexer": "ipython3",
   "version": "3.7.4"
  }
 },
 "nbformat": 4,
 "nbformat_minor": 2
}
